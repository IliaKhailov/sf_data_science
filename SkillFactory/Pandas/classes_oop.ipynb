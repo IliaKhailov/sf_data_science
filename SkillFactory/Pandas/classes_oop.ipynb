{
 "cells": [
  {
   "cell_type": "markdown",
   "metadata": {},
   "source": [
    "АТРИБУТЫ И МЕТОДЫ"
   ]
  },
  {
   "cell_type": "code",
   "execution_count": 1,
   "metadata": {},
   "outputs": [
    {
     "name": "stdout",
     "output_type": "stream",
     "text": [
      "Total amount: 10\n",
      "Total amount: 20\n"
     ]
    }
   ],
   "source": [
    "# По-прежнему пока создаём пустой класс  \n",
    "class SalesReport():  \n",
    "    pass  \n",
    "  \n",
    "# Создаём первый отчёт по продажам   \n",
    "report = SalesReport()  \n",
    "  \n",
    "# Мы добавим новый атрибут объекту.  \n",
    "# Для этого через точку напишем имя атрибута и дальше как с обычной переменной  \n",
    "report.amount = 10  \n",
    "  \n",
    "# То же самое делаем для второго отчёта.  \n",
    "report_2 = SalesReport()  \n",
    "report_2.amount = 20  \n",
    "  \n",
    "# Создадим вспомогательную функцию, она будет печатать общую сумму из отчёта  \n",
    "def print_report(report):  \n",
    "    print(\"Total amount:\", report.amount)  \n",
    "      \n",
    "print_report(report) # => Total amount: 10  \n",
    "print_report(report_2) # => Total amount: 20 "
   ]
  },
  {
   "cell_type": "code",
   "execution_count": 3,
   "metadata": {},
   "outputs": [
    {
     "name": "stdout",
     "output_type": "stream",
     "text": [
      "Total sales: 40000\n"
     ]
    }
   ],
   "source": [
    "class SalesReport():  \n",
    "    # Позволим добавлять много разных сделок   \n",
    "    def add_deal(self, amount):   \n",
    "        # На первой сделке создадим список для хранения всех сделок   \n",
    "        if not hasattr(self, 'deals'):  \n",
    "            self.deals = []  \n",
    "        # Добавим текущую сделку  \n",
    "        self.deals.append(amount)  \n",
    "          \n",
    "    # Посчитаем сумму всех сделок      \n",
    "    def total_amount(self):  \n",
    "        return sum(self.deals)  \n",
    "      \n",
    "    def print_report(self):  \n",
    "        print(\"Total sales:\", self.total_amount())  \n",
    "          \n",
    "# Используем наши новые возможности  \n",
    "# Добавим две сделки и распечатаем отчёт  \n",
    "report = SalesReport()  \n",
    "report.add_deal(10_000)  \n",
    "report.add_deal(30_000)  \n",
    "report.print_report() # => Total sales: 40000  "
   ]
  },
  {
   "cell_type": "markdown",
   "metadata": {},
   "source": [
    "МЕТОД _INIT_"
   ]
  },
  {
   "cell_type": "code",
   "execution_count": 4,
   "metadata": {},
   "outputs": [
    {
     "name": "stdout",
     "output_type": "stream",
     "text": [
      "[]\n"
     ]
    },
    {
     "data": {
      "text/plain": [
       "0"
      ]
     },
     "execution_count": 4,
     "metadata": {},
     "output_type": "execute_result"
    }
   ],
   "source": [
    "# Для этого у классов есть метод инициализации __init__. Если мы определим метод с таким именем, \n",
    "# код в нём вызовется при создании объекта.\n",
    "class SalesReport():  \n",
    "    def __init__(self):  \n",
    "        self.deals = []  \n",
    "          \n",
    "    def add_deal(self, amount):   \n",
    "        self.deals.append(amount)  \n",
    "          \n",
    "    def total_amount(self):  \n",
    "        return sum(self.deals)  \n",
    "      \n",
    "    def print_report(self):  \n",
    "        print(\"Total sales:\", self.total_amount())  \n",
    "   \n",
    "report = SalesReport()  \n",
    "print(report.deals)  \n",
    "# => []  \n",
    "report.total_amount()  \n",
    "# => 0  "
   ]
  },
  {
   "cell_type": "markdown",
   "metadata": {},
   "source": [
    "__init__ — это технический метод, поэтому его имя начинается и заканчивается двумя подчёркиваниями. Он получает первым аргументом сам объект, в нём могут выполняться любые операции. Оставшиеся аргументы он получает из вызова при создании: если мы напишем report = SalesReport(\"Info\", 20), то вторым и третьим аргументом в __init__ передадутся \"Info\" и 20."
   ]
  },
  {
   "cell_type": "code",
   "execution_count": 5,
   "metadata": {},
   "outputs": [
    {
     "name": "stdout",
     "output_type": "stream",
     "text": [
      "Manager: Ivan Taranov\n",
      "Total sales: 40000\n"
     ]
    }
   ],
   "source": [
    "class SalesReport():  \n",
    "    # Будем принимать в __init__ ещё и имя менеджера  \n",
    "    def __init__(self, manager_name):  \n",
    "        self.deals = []  \n",
    "        self.manager_name = manager_name  \n",
    "          \n",
    "    def add_deal(self, amount):   \n",
    "        self.deals.append(amount)  \n",
    "          \n",
    "    def total_amount(self):  \n",
    "        return sum(self.deals)  \n",
    "      \n",
    "    def print_report(self):  \n",
    "        # И добавлять это имя в отчёт  \n",
    "        print(\"Manager:\", self.manager_name)  \n",
    "        print(\"Total sales:\", self.total_amount())  \n",
    "          \n",
    "   \n",
    "report = SalesReport(\"Ivan Taranov\")  \n",
    "report.add_deal(10_000)  \n",
    "report.add_deal(30_000)  \n",
    "report.print_report()  "
   ]
  },
  {
   "cell_type": "code",
   "execution_count": 1,
   "metadata": {},
   "outputs": [
    {
     "name": "stdout",
     "output_type": "stream",
     "text": [
      "Average department revenue for Danon: 700000\n"
     ]
    }
   ],
   "source": [
    "class DepartmentReport():\n",
    "\n",
    "    def __init__(self,company):\n",
    "        \"\"\"\n",
    "        Метод инициализации класса. \n",
    "        Создаёт атрибуты revenues и company\n",
    "        \"\"\"\n",
    "        #ваш код\n",
    "        self.revenues = []  \n",
    "        self.company = company\n",
    "    \n",
    "    def add_revenue(self, amount):\n",
    "        \"\"\"\n",
    "        Метод для добавления выручки отдела в список revenues.\n",
    "        Если атрибута revenues ещё не существует, метод должен создавать пустой список перед добавлением выручки.\n",
    "        \"\"\"\n",
    "        #ваш код\n",
    "        self.revenues.append(amount)  \n",
    "    \n",
    "    def average_revenue(self):\n",
    "        \"\"\"\n",
    "        Вычисляет average_revenue — среднюю выручку по отделам — округляя до целого.\n",
    "        Метод возвращает строку в формате:\n",
    "        'Average department revenue for <company>: <average_revenue>'\n",
    "        \"\"\"\n",
    "        average= round(sum(self.revenues)/len(self.revenues))\n",
    "        return  'Average department revenue for {}: {}'.format(self.company, average)\n",
    "report = DepartmentReport(\"Danon\")\n",
    "report.add_revenue(1_000_000)\n",
    "report.add_revenue(400_000)\n",
    "\n",
    "print(report.average_revenue())"
   ]
  },
  {
   "cell_type": "code",
   "execution_count": null,
   "metadata": {},
   "outputs": [],
   "source": [
    "# Допустим, теперь мы хотим получать средний размер сделки и список клиентов, из которого исключены повторения (в случае, \n",
    "# если компания заключала несколько сделок с одним и тем же клиентом).\n",
    "class SalesReport():  \n",
    "    def __init__(self, employee_name):  \n",
    "        self.deals = []  \n",
    "        self.employee_name = employee_name  \n",
    "      \n",
    "    def add_deal(self, company, amount):   \n",
    "        self.deals.append({'company': company, 'amount': amount})  \n",
    "          \n",
    "    def total_amount(self):  \n",
    "        return sum([deal['amount'] for deal in self.deals])  \n",
    "      \n",
    "    def average_deal(self):  \n",
    "        return self.total_amount()/len(self.deals)  \n",
    "      \n",
    "    def all_companies(self):  \n",
    "        return list(set([deal['company'] for deal in self.deals]))  \n",
    "      \n",
    "    def print_report(self):  \n",
    "        print(\"Employee: \", self.employee_name)  \n",
    "        print(\"Total sales:\", self.total_amount())  \n",
    "        print(\"Average sales:\", self.average_deal())  \n",
    "        print(\"Companies:\", self.all_companies())  \n",
    "      \n",
    "      \n",
    "report = SalesReport(\"Ivan Semenov\")  \n",
    "  \n",
    "report.add_deal(\"PepsiCo\", 120_000)  \n",
    "report.add_deal(\"SkyEng\", 250_000)  \n",
    "report.add_deal(\"PepsiCo\", 20_000)  \n",
    "  \n",
    "report.print_report()  "
   ]
  },
  {
   "cell_type": "markdown",
   "metadata": {},
   "source": [
    "ОТСЛЕЖИВАНИЕ СОСТОЯНИЯ"
   ]
  },
  {
   "cell_type": "code",
   "execution_count": 2,
   "metadata": {},
   "outputs": [
    {
     "name": "stdout",
     "output_type": "stream",
     "text": [
      "Order price for max@gmail.com is 100\n",
      "Order price for lova@yandex.ru is 180.0\n",
      "Order price for german@sberbank.ru is 500\n",
      "Order price for german@sberbank.ru is 450.0\n"
     ]
    }
   ],
   "source": [
    "# Вернёмся к примеру: есть база клиентов с основной информацией; \n",
    "# в реальном времени нам приходит информация о покупках. \n",
    "# Запустим промокампанию, чтобы поощрить старых клиентов,\n",
    "# которые сделали у нас много заказов, и выдать им скидку:\n",
    "class Client():  \n",
    "    # Базовые данные  \n",
    "    def __init__(self, email, order_num, registration_year):  \n",
    "        self.email = email  \n",
    "        self.order_num = order_num  \n",
    "        self.registration_year = registration_year  \n",
    "        self.discount = 0  \n",
    "          \n",
    "    # Оформление заказа  \n",
    "    def make_order(self, price):  \n",
    "        self.update_discount()  \n",
    "        self.order_num += 1  \n",
    "        # Здесь было бы оформление заказа, но мы просто выведем его цену  \n",
    "        discounted_price = price * (1 - self.discount)   \n",
    "        print(f\"Order price for {self.email} is {discounted_price}\")  \n",
    "              \n",
    "    # Назначение скидки  \n",
    "    def update_discount(self):   \n",
    "        if self.registration_year < 2018 and self.order_num >= 5:  \n",
    "            self.discount = 0.1   \n",
    "              \n",
    "  \n",
    "# Применение  \n",
    "          \n",
    "# Сделаем подобие базы  \n",
    "client_db = [   \n",
    "    Client(\"max@gmail.com\", 2, 2019),  \n",
    "    Client(\"lova@yandex.ru\", 10, 2015),  \n",
    "    Client(\"german@sberbank.ru\", 4, 2017)  \n",
    "]  \n",
    "  \n",
    "  \n",
    "# Сгенерируем заказы  \n",
    "client_db[0].make_order(100)  \n",
    "# => Order price for max@gmail.com is 100  \n",
    "  \n",
    "client_db[1].make_order(200)  \n",
    "# => Order price for lova@yandex.ru is 180.0  \n",
    "  \n",
    "client_db[2].make_order(500)  \n",
    "# => Order price for german@sberbank.ru is 500  \n",
    "  \n",
    "client_db[2].make_order(500)  \n",
    "# => Order price for german@sberbank.ru is 450.0 \n"
   ]
  },
  {
   "cell_type": "code",
   "execution_count": 7,
   "metadata": {},
   "outputs": [
    {
     "name": "stdout",
     "output_type": "stream",
     "text": [
      "19700\n"
     ]
    }
   ],
   "source": [
    "class User():  \n",
    "    # Базовые данные  \n",
    "    def __init__(self, email, password, balance):  \n",
    "        self.email = email  \n",
    "        self.password = password  \n",
    "        self.balance = balance  \n",
    "        # self.discount = 0  \n",
    "          \n",
    "    # Залогинивание  \n",
    "    def login(self, email1, password1):  \n",
    "        # self.update_discount()  \n",
    "        # self.order_num += 1  \n",
    "        # Здесь было бы оформление заказа, но мы просто выведем его цену  \n",
    "        # discounted_price = price * (1 - self.discount)   \n",
    "        # print(f\"Order price for {self.email} is {discounted_price}\")  \n",
    "        if email1 == self.email and password1 == self.password:\n",
    "            return True\n",
    "        else:\n",
    "            return False\n",
    "              \n",
    "    # Обновление баланса  \n",
    "    def update_balance(self, amount):   \n",
    "        self.balance += amount  \n",
    "user = User(\"gosha@roskino.org\", \"qwerty\", 20_000)\n",
    "user.login(\"gosha@roskino.org\", \"qwerty123\")\n",
    "# => False\n",
    "user.login(\"gosha@roskino.org\", \"qwerty\")\n",
    "# => True\n",
    "user.update_balance(200)\n",
    "user.update_balance(-500)\n",
    "print(user.balance)\n",
    "# => 19700"
   ]
  },
  {
   "cell_type": "markdown",
   "metadata": {},
   "source": [
    "КОМБИНАЦИЯ ОПЕРАЦИЙ\n",
    "\n",
    "Классы могут пригодиться, если вы регулярно делаете над данными одну и ту же последовательность разноплановых функций. Вы можете упаковать их в класс и в дальнейшем сразу получать результат по загруженным данным."
   ]
  },
  {
   "cell_type": "code",
   "execution_count": 8,
   "metadata": {},
   "outputs": [
    {
     "name": "stdout",
     "output_type": "stream",
     "text": [
      "[1.0, 17.0, 4.0, 0.0, 8.0]\n",
      "6.892024376045111\n",
      "4.0\n"
     ]
    }
   ],
   "source": [
    "import statistics  \n",
    "  \n",
    "class DataFrame():  \n",
    "    def __init__(self, column, fill_value=0):  \n",
    "        # Инициализируем атрибуты  \n",
    "        self.column = column  \n",
    "        self.fill_value = fill_value  \n",
    "        # Заполним пропуски  \n",
    "        self.fill_missed()  \n",
    "        # Конвертируем все элементы в числа  \n",
    "        self.to_float()  \n",
    "          \n",
    "    def fill_missed(self):  \n",
    "        for i, value in enumerate(self.column):  \n",
    "            if value is None or value == '':  \n",
    "                self.column[i] = self.fill_value  \n",
    "                  \n",
    "    def to_float(self):  \n",
    "        self.column = [float(value) for value in self.column]  \n",
    "      \n",
    "    def median(self):  \n",
    "        return statistics.median(self.column)  \n",
    "      \n",
    "    def mean(self):  \n",
    "        return statistics.mean(self.column)  \n",
    "      \n",
    "    def deviation(self):  \n",
    "        return statistics.stdev(self.column)  \n",
    "      \n",
    "  \n",
    "      \n",
    "# Воспользуемся классом  \n",
    "df = DataFrame([\"1\", 17, 4, None, 8])  \n",
    "  \n",
    "print(df.column)  \n",
    "# => [1.0, 17.0, 4.0, 0.0, 8.0]  \n",
    "print(df.deviation())  \n",
    "# => 6.89  \n",
    "print(df.median())  \n",
    "# => 4.0  "
   ]
  },
  {
   "cell_type": "markdown",
   "metadata": {},
   "source": [
    "КЛАСС-ОБЁРТКА "
   ]
  },
  {
   "cell_type": "code",
   "execution_count": 27,
   "metadata": {},
   "outputs": [
    {
     "name": "stdout",
     "output_type": "stream",
     "text": [
      "{'perfomance': [10, 20, 10], 'clients': {'Romashka': 10, 'Vector': 34}}\n"
     ]
    }
   ],
   "source": [
    "import pickle  \n",
    "from datetime import datetime  \n",
    "from os import path  \n",
    "  \n",
    "class Dumper():  \n",
    "    def __init__(self, archive_dir=\"archive/\"):  \n",
    "        self.archive_dir = archive_dir  \n",
    "          \n",
    "    def dump(self, data):  \n",
    "        # Библиотека pickle позволяет доставать и класть объекты в файл  \n",
    "        with open(self.get_file_name(), 'wb') as file:  \n",
    "            pickle.dump(data, file)  \n",
    "              \n",
    "    def load_for_day(self, day):  \n",
    "        file_name = path.join(self.archive_dir, day + \".pkl\")   \n",
    "        with open(file_name, 'rb') as file:  \n",
    "            sets = pickle.load(file)  \n",
    "        return sets  \n",
    "          \n",
    "    # возвращает корректное имя для файла   \n",
    "    def get_file_name(self):   \n",
    "        today = datetime.now().strftime(\"%y-%m-%d\")   \n",
    "        return path.join(self.archive_dir, today + \".pkl\")  \n",
    "      \n",
    "      \n",
    "# Пример использования  \n",
    "  \n",
    "data = {  \n",
    "    'perfomance': [10, 20, 10],  \n",
    "    'clients': {\"Romashka\": 10, \"Vector\": 34}  \n",
    "}  \n",
    "  \n",
    "  \n",
    "dumper = Dumper()  \n",
    "  \n",
    "# Сохраним данные  \n",
    "dumper.dump(data)  \n",
    "  \n",
    "# Восстановим для сегодняшней даты  \n",
    "file_name = datetime.now().strftime(\"%y-%m-%d\")\n",
    "restored_data = dumper.load_for_day(file_name)\n",
    "print(restored_data)  \n",
    "# => {'perfomance': [10, 20, 10], 'clients': {'Romashka': 10, 'Vector': 34}}  "
   ]
  },
  {
   "cell_type": "code",
   "execution_count": null,
   "metadata": {},
   "outputs": [],
   "source": [
    "\"Напишите класс сборщика технических сообщений OwnLogger.\"\n",
    "\n",
    "\"У него должен быть метод log(message, level), который записывает сообщения. Здесь сообщение message может быть любым, а level — один из \"info\", \"warning\", \"error\".\n",
    "\"Также примените метод show_last(level), где level может быть \"info\", \"warning\", \"error\", \"all\". Для \"all\" он просто возвращает последнее добавленное сообщение, а для остальных — последнее поступившее сообщение соответствующего уровня.\"\n",
    "\"При этом по умолчанию значение именно \"all\". Если подходящего сообщения нет, возвращает None.\""
   ]
  },
  {
   "cell_type": "code",
   "execution_count": 28,
   "metadata": {},
   "outputs": [],
   "source": [
    "class OwnLogger():\n",
    "   def __init__(self):\n",
    "       self.logs = {\"info\": None, \"warning\": None, \"error\": None, \"all\": None}\n",
    "   def log(self, message, level):\n",
    "       self.logs[level] = message\n",
    "       self.logs['all'] = message\n",
    "   def show_last(self, level='all'):\n",
    "       return self.logs[level]"
   ]
  },
  {
   "cell_type": "markdown",
   "metadata": {},
   "source": [
    "ИМПОРТ И ОРГАНИЗАЦИЯ КОДА"
   ]
  },
  {
   "cell_type": "markdown",
   "metadata": {},
   "source": [
    "Классы, как и библиотечные функции, можно импортировать в другие программы. Для этого нужно положить класс в отдельный файл в корне проекта и использовать ключевое слово import. \n",
    "\n",
    "Например, если мы положим Dumper в файл dumper.py в корне проекта, то его можно импортировать командой:\n",
    "\n",
    " \n",
    "from dumper import Dumper  \n",
    "Пишем from <имя файла без .py> import <имя класса>. Имя файла должно начинаться с буквы и не совпадать с именами библиотечных модулей. Если файлов с классами много, их можно складывать в папки, предварительно положив туда пустой файл __init__.py — это требование Python.\n",
    "\n",
    "Сгруппируем классы из примеров в папке helpers. Структура файлов:\n",
    "\n",
    "helpers\n",
    "-- __init__.py\n",
    "-- dumper.py\n",
    "-- data_frame.py\n",
    "-- client.py\n",
    "Импортируем, соединяя все шаги через точку с помощью того же синтаксиса, что использовался для импорта библиотечных функций.\n",
    "\n",
    "from helpers.dumper import Dumper  \n",
    "from helpers.data_frame import DataFrame  \n",
    "from helpers.client import Client  "
   ]
  },
  {
   "cell_type": "markdown",
   "metadata": {},
   "source": [
    "Применение ООП для работы с файлами"
   ]
  },
  {
   "cell_type": "code",
   "execution_count": 29,
   "metadata": {},
   "outputs": [
    {
     "name": "stdout",
     "output_type": "stream",
     "text": [
      "d:\\IDE\\SkillFactory\\Pandas\n"
     ]
    }
   ],
   "source": [
    "# получить текущий путь\n",
    "start_path = os.getcwd()\n",
    "print(start_path) # /home/nbuser/library"
   ]
  },
  {
   "cell_type": "code",
   "execution_count": 30,
   "metadata": {},
   "outputs": [
    {
     "data": {
      "text/plain": [
       "'d:\\\\IDE\\\\SkillFactory'"
      ]
     },
     "execution_count": 30,
     "metadata": {},
     "output_type": "execute_result"
    }
   ],
   "source": [
    "os.chdir(\"..\") # подняться на один уровень выше\n",
    "os.getcwd() # '/home/nbuser'"
   ]
  },
  {
   "cell_type": "code",
   "execution_count": 31,
   "metadata": {},
   "outputs": [
    {
     "data": {
      "text/plain": [
       "'d:\\\\IDE\\\\SkillFactory\\\\Pandas'"
      ]
     },
     "execution_count": 31,
     "metadata": {},
     "output_type": "execute_result"
    }
   ],
   "source": [
    "os.chdir(start_path)\n",
    "os.getcwd() # '/home/nbuser/library'"
   ]
  },
  {
   "cell_type": "code",
   "execution_count": 32,
   "metadata": {},
   "outputs": [
    {
     "name": "stdout",
     "output_type": "stream",
     "text": [
      "['.ipynb_checkpoints', 'archive', 'classes_oop.ipynb', 'clearing_data.ipynb', 'data', 'pandas_visual.ipynb', 'panded.ipynb', 'pand_theory.ipynb', 'plotly', 'viz_kaggle_to_mentor.ipynb']\n",
      "Файл отсутствует в данной директории\n"
     ]
    }
   ],
   "source": [
    "# список файлов и директорий в папке\n",
    "import os\n",
    "\n",
    "print(os.listdir()) # ['SnapchatLoader', 'FBLoader', 'tmp.py', '.gitignore', 'venv', '.git']\n",
    "\n",
    "if 'tmp.py' not in os.listdir():\n",
    "    print(\"Файл отсутствует в данной директории\")"
   ]
  },
  {
   "cell_type": "code",
   "execution_count": 33,
   "metadata": {},
   "outputs": [
    {
     "name": "stdout",
     "output_type": "stream",
     "text": [
      "d:\\IDE\\SkillFactory\\Pandas\n",
      "d:\\IDE\\SkillFactory\\Pandas\\test\n"
     ]
    }
   ],
   "source": [
    "# соединяет пути с учётом особенностей операционной системы\n",
    "print(start_path)\n",
    "print(os.path.join(start_path, 'test'))\n"
   ]
  },
  {
   "cell_type": "markdown",
   "metadata": {},
   "source": [
    "Сделайте функцию, которая принимает от пользователя путь и выводит всю информацию о содержимом этой папки. Для реализации используйте функцию встроенного модуля os.walk(). Если путь не указан, то сравнение начинается с текущей директории."
   ]
  },
  {
   "cell_type": "code",
   "execution_count": 34,
   "metadata": {},
   "outputs": [
    {
     "name": "stdout",
     "output_type": "stream",
     "text": [
      "Текущая директория d:\\IDE\\SkillFactory\\Pandas\n",
      "---\n",
      "Список папок ['.ipynb_checkpoints', 'archive', 'data', 'plotly']\n",
      "---\n",
      "Список файлов ['classes_oop.ipynb', 'clearing_data.ipynb', 'pandas_visual.ipynb', 'panded.ipynb', 'pand_theory.ipynb', 'viz_kaggle_to_mentor.ipynb']\n",
      "---\n",
      "Все пути:\n",
      "Файл  d:\\IDE\\SkillFactory\\Pandas\\classes_oop.ipynb\n",
      "Файл  d:\\IDE\\SkillFactory\\Pandas\\clearing_data.ipynb\n",
      "Файл  d:\\IDE\\SkillFactory\\Pandas\\pandas_visual.ipynb\n",
      "Файл  d:\\IDE\\SkillFactory\\Pandas\\panded.ipynb\n",
      "Файл  d:\\IDE\\SkillFactory\\Pandas\\pand_theory.ipynb\n",
      "Файл  d:\\IDE\\SkillFactory\\Pandas\\viz_kaggle_to_mentor.ipynb\n",
      "Папка  d:\\IDE\\SkillFactory\\Pandas\\.ipynb_checkpoints\n",
      "Папка  d:\\IDE\\SkillFactory\\Pandas\\archive\n",
      "Папка  d:\\IDE\\SkillFactory\\Pandas\\data\n",
      "Папка  d:\\IDE\\SkillFactory\\Pandas\\plotly\n",
      "===\n",
      "Текущая директория d:\\IDE\\SkillFactory\\Pandas\\.ipynb_checkpoints\n",
      "---\n",
      "Папок нет\n",
      "---\n",
      "Файлов нет\n",
      "---\n",
      "===\n",
      "Текущая директория d:\\IDE\\SkillFactory\\Pandas\\archive\n",
      "---\n",
      "Папок нет\n",
      "---\n",
      "Список файлов ['22-08-07.pkl']\n",
      "---\n",
      "Файл  d:\\IDE\\SkillFactory\\Pandas\\archive\\22-08-07.pkl\n",
      "===\n",
      "Текущая директория d:\\IDE\\SkillFactory\\Pandas\\data\n",
      "---\n",
      "Папок нет\n",
      "---\n",
      "Список файлов ['churn.csv', 'citibike-tripdata.csv', 'countries.csv', 'country_vaccinations.csv', 'covid_data.csv', 'dates.csv', 'diabetes_data.csv', 'melb_data.csv', 'melb_data_fe.csv', 'melb_data_ps.csv', 'movies.csv', 'orders.csv', 'products.csv', 'ratings1.csv', 'ratings2.csv', 'ratings_movies.csv', 'sber_data.csv', 'students_performance.csv', 'Visualizaion_Matplotlib.ipynb', 'Visualization_Pandas.ipynb', 'Visualization_Plotly.ipynb', 'Visualization_Seaborn.ipynb']\n",
      "---\n",
      "Файл  d:\\IDE\\SkillFactory\\Pandas\\data\\churn.csv\n",
      "Файл  d:\\IDE\\SkillFactory\\Pandas\\data\\citibike-tripdata.csv\n",
      "Файл  d:\\IDE\\SkillFactory\\Pandas\\data\\countries.csv\n",
      "Файл  d:\\IDE\\SkillFactory\\Pandas\\data\\country_vaccinations.csv\n",
      "Файл  d:\\IDE\\SkillFactory\\Pandas\\data\\covid_data.csv\n",
      "Файл  d:\\IDE\\SkillFactory\\Pandas\\data\\dates.csv\n",
      "Файл  d:\\IDE\\SkillFactory\\Pandas\\data\\diabetes_data.csv\n",
      "Файл  d:\\IDE\\SkillFactory\\Pandas\\data\\melb_data.csv\n",
      "Файл  d:\\IDE\\SkillFactory\\Pandas\\data\\melb_data_fe.csv\n",
      "Файл  d:\\IDE\\SkillFactory\\Pandas\\data\\melb_data_ps.csv\n",
      "Файл  d:\\IDE\\SkillFactory\\Pandas\\data\\movies.csv\n",
      "Файл  d:\\IDE\\SkillFactory\\Pandas\\data\\orders.csv\n",
      "Файл  d:\\IDE\\SkillFactory\\Pandas\\data\\products.csv\n",
      "Файл  d:\\IDE\\SkillFactory\\Pandas\\data\\ratings1.csv\n",
      "Файл  d:\\IDE\\SkillFactory\\Pandas\\data\\ratings2.csv\n",
      "Файл  d:\\IDE\\SkillFactory\\Pandas\\data\\ratings_movies.csv\n",
      "Файл  d:\\IDE\\SkillFactory\\Pandas\\data\\sber_data.csv\n",
      "Файл  d:\\IDE\\SkillFactory\\Pandas\\data\\students_performance.csv\n",
      "Файл  d:\\IDE\\SkillFactory\\Pandas\\data\\Visualizaion_Matplotlib.ipynb\n",
      "Файл  d:\\IDE\\SkillFactory\\Pandas\\data\\Visualization_Pandas.ipynb\n",
      "Файл  d:\\IDE\\SkillFactory\\Pandas\\data\\Visualization_Plotly.ipynb\n",
      "Файл  d:\\IDE\\SkillFactory\\Pandas\\data\\Visualization_Seaborn.ipynb\n",
      "===\n",
      "Текущая директория d:\\IDE\\SkillFactory\\Pandas\\plotly\n",
      "---\n",
      "Папок нет\n",
      "---\n",
      "Список файлов ['scatter_3d.html']\n",
      "---\n",
      "Файл  d:\\IDE\\SkillFactory\\Pandas\\plotly\\scatter_3d.html\n",
      "===\n"
     ]
    }
   ],
   "source": [
    "import os\n",
    "\n",
    "def walk_desc(path=None):\n",
    "    start_path = path if path is not None else os.getcwd()\n",
    "\n",
    "    for root, dirs, files in os.walk(start_path):\n",
    "        print(\"Текущая директория\", root)\n",
    "        print(\"---\")\n",
    "\n",
    "        if dirs:\n",
    "            print(\"Список папок\", dirs)\n",
    "        else:\n",
    "            print(\"Папок нет\")\n",
    "        print(\"---\")\n",
    "\n",
    "        if files:\n",
    "            print(\"Список файлов\", files)\n",
    "        else:\n",
    "            print(\"Файлов нет\")\n",
    "        print(\"---\")\n",
    "\n",
    "        if files and dirs:\n",
    "            print(\"Все пути:\")\n",
    "        for f in files:\n",
    "            print(\"Файл \", os.path.join(root, f))\n",
    "        for d in dirs:\n",
    "            print(\"Папка \", os.path.join(root, d))\n",
    "        print(\"===\")\n",
    "\n",
    "walk_desc()"
   ]
  },
  {
   "cell_type": "markdown",
   "metadata": {},
   "source": [
    "TRY-EXCEPT "
   ]
  },
  {
   "cell_type": "code",
   "execution_count": null,
   "metadata": {},
   "outputs": [],
   "source": [
    "class ParentException(Exception):\n",
    "    def __init__(self, message, error):  # допишем к нашему пустому классу конструктор, который будет печатать дополнительно в консоль информацию об ошибке.\n",
    "        super().__init__(message)  # помним про вызов конструктора родительского класса\n",
    "        print(f\"Errors: {error}\")  # печатаем ошибку\n",
    "\n",
    " \n",
    "class ChildException(ParentException): # создаём пустой класс исключения-потомка, наследуемся от ParentException\n",
    "    def __init__(self, message, error):\n",
    "        super().__init__(message, error)\n",
    " \n",
    " \n",
    "try:\n",
    "    raise ChildException(\"message\", \"error\")  # поднимаем исключение-потомок, передаём дополнительный аргумент\n",
    "except ParentException as e:\n",
    "    print(e)  # выводим информацию об исключении"
   ]
  },
  {
   "cell_type": "markdown",
   "metadata": {},
   "source": [
    "Создайте класс Square. Добавьте в конструктор класса Square собственное исключение NonPositiveDigitException, унаследованное от ValueError, которое будет срабатывать каждый раз, когда сторона квадрата меньше или равна 0."
   ]
  },
  {
   "cell_type": "code",
   "execution_count": null,
   "metadata": {},
   "outputs": [],
   "source": [
    "class NonPositiveDigitException(ValueError):\n",
    "    pass\n",
    " \n",
    "class Square:\n",
    "    def __init__(self, a):\n",
    "        if a <= 0:\n",
    "            raise NonPositiveDigitException('Неправильно указана сторона квадрата')"
   ]
  }
 ],
 "metadata": {
  "kernelspec": {
   "display_name": "Python 3.9.10 64-bit (system)",
   "language": "python",
   "name": "python3"
  },
  "language_info": {
   "codemirror_mode": {
    "name": "ipython",
    "version": 3
   },
   "file_extension": ".py",
   "mimetype": "text/x-python",
   "name": "python",
   "nbconvert_exporter": "python",
   "pygments_lexer": "ipython3",
   "version": "3.9.10"
  },
  "orig_nbformat": 4,
  "vscode": {
   "interpreter": {
    "hash": "a9a7dfb36461fc2a44f7690338125ccff40be3fb1c3a36a20f0654a6205fb643"
   }
  }
 },
 "nbformat": 4,
 "nbformat_minor": 2
}
